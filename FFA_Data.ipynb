{
 "cells": [
  {
   "cell_type": "code",
   "execution_count": null,
   "id": "cd3b3ac2-9514-4875-a400-f5a422866679",
   "metadata": {},
   "outputs": [],
   "source": [
    "import imaplib\n",
    "import datetime\n",
    "import email\n",
    "import logging\n",
    "import os, sys\n",
    "import xlrd\n",
    "import pandas as pd\n",
    "import sqlalchemy\n",
    "from dateutil import parser"
   ]
  },
  {
   "cell_type": "code",
   "execution_count": null,
   "id": "f8e0c20c-74d7-4458-8271-fd40f2d46320",
   "metadata": {},
   "outputs": [],
   "source": [
    "import openpyxl\n",
    "book = openpyxl.load_workbook('Details.xlsx')\n",
    "sheet = book.active\n",
    "server=sheet.cell(5,2).value\n",
    "database=sheet.cell(6,2).value\n",
    "username=sheet.cell(7,2).value\n",
    "password=sheet.cell(8,2).value\n",
    "engine_query=\"mssql+pymssql://\"+username+\":\"+password+\"@\"+server+\"/\"+database\n",
    "sql_engine = sqlalchemy.create_engine(engine_query).connect()"
   ]
  },
  {
   "cell_type": "code",
   "execution_count": null,
   "id": "561b83c8-d91d-40c3-b2e5-85dbc01a1053",
   "metadata": {},
   "outputs": [],
   "source": [
    "query = \"SELECT * FROM RM_ST_FFA_Log_Date\"\n",
    "data = pd.read_sql(query, sql_engine)\n",
    "data.to_csv(\"RM_ST_FFA_Log_Date.csv\",index=False)"
   ]
  },
  {
   "cell_type": "code",
   "execution_count": null,
   "id": "80261b98-4529-4a32-9c21-8ac8312c8294",
   "metadata": {},
   "outputs": [],
   "source": [
    "query = \"SELECT * FROM RM_ST_FFA_Formula1\"\n",
    "data = pd.read_sql(query, sql_engine)\n",
    "data.to_csv(\"RM_ST_FFA_Formula1.csv\",index=False)"
   ]
  },
  {
   "cell_type": "code",
   "execution_count": null,
   "id": "378f626c-4771-4604-bd7b-ceb60e9cf641",
   "metadata": {},
   "outputs": [],
   "source": [
    "query = \"SELECT * FROM RM_ST_FFA_Dollar_MT_Conversion\"\n",
    "data = pd.read_sql(query, sql_engine)\n",
    "data.to_csv(\"RM_ST_FFA_Dollar_MT_Conversion.csv\",index=False)"
   ]
  },
  {
   "cell_type": "code",
   "execution_count": null,
   "id": "fce70426-1944-49ff-ac78-8bbe647c3d38",
   "metadata": {},
   "outputs": [],
   "source": [
    "query = \"SELECT * FROM RM_ST_FFA_FLAT_RATE\"\n",
    "data = pd.read_sql(query, sql_engine)\n",
    "data.to_csv(\"RM_ST_FFA_FLAT_RATE.csv\",index=False)"
   ]
  },
  {
   "cell_type": "code",
   "execution_count": null,
   "id": "8366dd6d-dcad-4568-8e68-e7e2fa518911",
   "metadata": {},
   "outputs": [],
   "source": [
    "# RM_ST_FFA_Monthly\n",
    "# RM_ST_FFA_Quarterly\n",
    "# RM_ST_FFA_Yearly\n",
    "# RM_ST_FFA_Spot"
   ]
  },
  {
   "cell_type": "code",
   "execution_count": null,
   "id": "477d99bd-69d1-43cd-be19-d9beaf9f15a3",
   "metadata": {},
   "outputs": [],
   "source": [
    "mme_server='10.131.37.216'\n",
    "mme_database='MMEDATA_UPLOAD_PRD'\n",
    "mme_username='MMEDATA_UPLOAD_PRD'\n",
    "mme_password='MMEDATA_UPLOAD_PRD@123#216'\n",
    "mme_open=\"mssql+pymssql://\"+mme_username+\":\"+mme_password+\"@\"+mme_server+\"/\"+mme_database\n",
    "avg_sql_engine = sqlalchemy.create_engine(mme_open).connect()\n",
    "query = \"SELECT * FROM MME_DATA_UPLOAD\"\n",
    "mme_data = pd.read_sql(query, avg_sql_engine)\n",
    "mme_data.to_csv(\"MME_DATA_UPLOAD.csv\",index=False)"
   ]
  }
 ],
 "metadata": {
  "kernelspec": {
   "display_name": "Python 3 (ipykernel)",
   "language": "python",
   "name": "python3"
  },
  "language_info": {
   "codemirror_mode": {
    "name": "ipython",
    "version": 3
   },
   "file_extension": ".py",
   "mimetype": "text/x-python",
   "name": "python",
   "nbconvert_exporter": "python",
   "pygments_lexer": "ipython3",
   "version": "3.12.7"
  }
 },
 "nbformat": 4,
 "nbformat_minor": 5
}
